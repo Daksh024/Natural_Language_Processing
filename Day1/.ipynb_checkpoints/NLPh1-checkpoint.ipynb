{
 "cells": [
  {
   "cell_type": "code",
   "execution_count": null,
   "id": "3f9cc732",
   "metadata": {
    "colab": {
     "base_uri": "https://localhost:8080/"
    },
    "id": "3f9cc732",
    "outputId": "f8e34896-570b-4b49-8886-ae71b460f8b5"
   },
   "outputs": [
    {
     "name": "stdout",
     "output_type": "stream",
     "text": [
      "Looking in indexes: https://pypi.org/simple, https://us-python.pkg.dev/colab-wheels/public/simple/\n",
      "Collecting polyglot\n",
      "  Downloading polyglot-16.7.4.tar.gz (126 kB)\n",
      "\u001b[2K     \u001b[90m━━━━━━━━━━━━━━━━━━━━━━━━━━━━━━━━━━━━━━━\u001b[0m \u001b[32m126.3/126.3 kB\u001b[0m \u001b[31m3.8 MB/s\u001b[0m eta \u001b[36m0:00:00\u001b[0m\n",
      "\u001b[?25h  Preparing metadata (setup.py) ... \u001b[?25l\u001b[?25hdone\n",
      "Building wheels for collected packages: polyglot\n",
      "  Building wheel for polyglot (setup.py) ... \u001b[?25l\u001b[?25hdone\n",
      "  Created wheel for polyglot: filename=polyglot-16.7.4-py2.py3-none-any.whl size=52560 sha256=d74379f3300c1862d732a980424e45a583df53de5968e7e23f9164d8101f7380\n",
      "  Stored in directory: /root/.cache/pip/wheels/aa/92/4a/b172589446ba537db3bdb9a1f2204f27fe71217981c14ac368\n",
      "Successfully built polyglot\n",
      "Installing collected packages: polyglot\n",
      "Successfully installed polyglot-16.7.4\n",
      "Looking in indexes: https://pypi.org/simple, https://us-python.pkg.dev/colab-wheels/public/simple/\n",
      "Collecting morfessor\n",
      "  Downloading Morfessor-2.0.6-py3-none-any.whl (35 kB)\n",
      "Requirement already satisfied: polyglot in /usr/local/lib/python3.10/dist-packages (16.7.4)\n",
      "Collecting PyICU\n",
      "  Downloading PyICU-2.11.tar.gz (257 kB)\n",
      "\u001b[2K     \u001b[90m━━━━━━━━━━━━━━━━━━━━━━━━━━━━━━━━━━━━━━━\u001b[0m \u001b[32m257.9/257.9 kB\u001b[0m \u001b[31m6.6 MB/s\u001b[0m eta \u001b[36m0:00:00\u001b[0m\n",
      "\u001b[?25h  Installing build dependencies ... \u001b[?25l\u001b[?25hdone\n",
      "  Getting requirements to build wheel ... \u001b[?25l\u001b[?25hdone\n",
      "  Preparing metadata (pyproject.toml) ... \u001b[?25l\u001b[?25hdone\n",
      "Collecting pycld2\n",
      "  Downloading pycld2-0.41.tar.gz (41.4 MB)\n",
      "\u001b[2K     \u001b[90m━━━━━━━━━━━━━━━━━━━━━━━━━━━━━━━━━━━━━━━━\u001b[0m \u001b[32m41.4/41.4 MB\u001b[0m \u001b[31m17.5 MB/s\u001b[0m eta \u001b[36m0:00:00\u001b[0m\n",
      "\u001b[?25h  Preparing metadata (setup.py) ... \u001b[?25l\u001b[?25hdone\n",
      "Building wheels for collected packages: PyICU, pycld2\n",
      "  Building wheel for PyICU (pyproject.toml) ... \u001b[?25l\u001b[?25hdone\n",
      "  Created wheel for PyICU: filename=PyICU-2.11-cp310-cp310-linux_x86_64.whl size=1855654 sha256=777da40a651f8143bff5fa672f0910f05eafcdd2bfa86756404b1ae818986fd6\n",
      "  Stored in directory: /root/.cache/pip/wheels/67/c3/00/2176cc05d3ea22935a9c78f1034b1a3e3697ef11ffb5cbe2f5\n",
      "  Building wheel for pycld2 (setup.py) ... \u001b[?25l\u001b[?25hdone\n",
      "  Created wheel for pycld2: filename=pycld2-0.41-cp310-cp310-linux_x86_64.whl size=9915816 sha256=d5bce9d8b639a94debebc0f52bc7f58354420a0d41b5bbe6cd55f57f74ccb6e7\n",
      "  Stored in directory: /root/.cache/pip/wheels/be/81/31/240c89c845e008a93d98542325270007de595bfd356eb0b06c\n",
      "Successfully built PyICU pycld2\n",
      "Installing collected packages: PyICU, pycld2, morfessor\n",
      "Successfully installed PyICU-2.11 morfessor-2.0.6 pycld2-0.41\n"
     ]
    }
   ],
   "source": [
    "!pip install polyglot\n",
    "!pip install morfessor polyglot PyICU pycld2"
   ]
  },
  {
   "cell_type": "code",
   "execution_count": null,
   "id": "394c27e2",
   "metadata": {
    "colab": {
     "base_uri": "https://localhost:8080/"
    },
    "id": "394c27e2",
    "outputId": "0f7f5d8e-64c2-4b18-bdf6-5643dd5ea2da"
   },
   "outputs": [
    {
     "name": "stdout",
     "output_type": "stream",
     "text": [
      "Looking in indexes: https://pypi.org/simple, https://us-python.pkg.dev/colab-wheels/public/simple/\n",
      "Requirement already satisfied: nltk in /usr/local/lib/python3.10/dist-packages (3.8.1)\n",
      "Requirement already satisfied: spacy in /usr/local/lib/python3.10/dist-packages (3.5.2)\n",
      "Requirement already satisfied: textblob in /usr/local/lib/python3.10/dist-packages (0.17.1)\n",
      "Collecting bs4\n",
      "  Downloading bs4-0.0.1.tar.gz (1.1 kB)\n",
      "  Preparing metadata (setup.py) ... \u001b[?25l\u001b[?25hdone\n",
      "Requirement already satisfied: click in /usr/local/lib/python3.10/dist-packages (from nltk) (8.1.3)\n",
      "Requirement already satisfied: joblib in /usr/local/lib/python3.10/dist-packages (from nltk) (1.2.0)\n",
      "Requirement already satisfied: regex>=2021.8.3 in /usr/local/lib/python3.10/dist-packages (from nltk) (2022.10.31)\n",
      "Requirement already satisfied: tqdm in /usr/local/lib/python3.10/dist-packages (from nltk) (4.65.0)\n",
      "Requirement already satisfied: spacy-legacy<3.1.0,>=3.0.11 in /usr/local/lib/python3.10/dist-packages (from spacy) (3.0.12)\n",
      "Requirement already satisfied: spacy-loggers<2.0.0,>=1.0.0 in /usr/local/lib/python3.10/dist-packages (from spacy) (1.0.4)\n",
      "Requirement already satisfied: murmurhash<1.1.0,>=0.28.0 in /usr/local/lib/python3.10/dist-packages (from spacy) (1.0.9)\n",
      "Requirement already satisfied: cymem<2.1.0,>=2.0.2 in /usr/local/lib/python3.10/dist-packages (from spacy) (2.0.7)\n",
      "Requirement already satisfied: preshed<3.1.0,>=3.0.2 in /usr/local/lib/python3.10/dist-packages (from spacy) (3.0.8)\n",
      "Requirement already satisfied: thinc<8.2.0,>=8.1.8 in /usr/local/lib/python3.10/dist-packages (from spacy) (8.1.9)\n",
      "Requirement already satisfied: wasabi<1.2.0,>=0.9.1 in /usr/local/lib/python3.10/dist-packages (from spacy) (1.1.1)\n",
      "Requirement already satisfied: srsly<3.0.0,>=2.4.3 in /usr/local/lib/python3.10/dist-packages (from spacy) (2.4.6)\n",
      "Requirement already satisfied: catalogue<2.1.0,>=2.0.6 in /usr/local/lib/python3.10/dist-packages (from spacy) (2.0.8)\n",
      "Requirement already satisfied: typer<0.8.0,>=0.3.0 in /usr/local/lib/python3.10/dist-packages (from spacy) (0.7.0)\n",
      "Requirement already satisfied: pathy>=0.10.0 in /usr/local/lib/python3.10/dist-packages (from spacy) (0.10.1)\n",
      "Requirement already satisfied: smart-open<7.0.0,>=5.2.1 in /usr/local/lib/python3.10/dist-packages (from spacy) (6.3.0)\n",
      "Requirement already satisfied: numpy>=1.15.0 in /usr/local/lib/python3.10/dist-packages (from spacy) (1.22.4)\n",
      "Requirement already satisfied: requests<3.0.0,>=2.13.0 in /usr/local/lib/python3.10/dist-packages (from spacy) (2.27.1)\n",
      "Requirement already satisfied: pydantic!=1.8,!=1.8.1,<1.11.0,>=1.7.4 in /usr/local/lib/python3.10/dist-packages (from spacy) (1.10.7)\n",
      "Requirement already satisfied: jinja2 in /usr/local/lib/python3.10/dist-packages (from spacy) (3.1.2)\n",
      "Requirement already satisfied: setuptools in /usr/local/lib/python3.10/dist-packages (from spacy) (67.7.2)\n",
      "Requirement already satisfied: packaging>=20.0 in /usr/local/lib/python3.10/dist-packages (from spacy) (23.1)\n",
      "Requirement already satisfied: langcodes<4.0.0,>=3.2.0 in /usr/local/lib/python3.10/dist-packages (from spacy) (3.3.0)\n",
      "Requirement already satisfied: beautifulsoup4 in /usr/local/lib/python3.10/dist-packages (from bs4) (4.11.2)\n",
      "Requirement already satisfied: typing-extensions>=4.2.0 in /usr/local/lib/python3.10/dist-packages (from pydantic!=1.8,!=1.8.1,<1.11.0,>=1.7.4->spacy) (4.5.0)\n",
      "Requirement already satisfied: urllib3<1.27,>=1.21.1 in /usr/local/lib/python3.10/dist-packages (from requests<3.0.0,>=2.13.0->spacy) (1.26.15)\n",
      "Requirement already satisfied: certifi>=2017.4.17 in /usr/local/lib/python3.10/dist-packages (from requests<3.0.0,>=2.13.0->spacy) (2022.12.7)\n",
      "Requirement already satisfied: charset-normalizer~=2.0.0 in /usr/local/lib/python3.10/dist-packages (from requests<3.0.0,>=2.13.0->spacy) (2.0.12)\n",
      "Requirement already satisfied: idna<4,>=2.5 in /usr/local/lib/python3.10/dist-packages (from requests<3.0.0,>=2.13.0->spacy) (3.4)\n",
      "Requirement already satisfied: blis<0.8.0,>=0.7.8 in /usr/local/lib/python3.10/dist-packages (from thinc<8.2.0,>=8.1.8->spacy) (0.7.9)\n",
      "Requirement already satisfied: confection<1.0.0,>=0.0.1 in /usr/local/lib/python3.10/dist-packages (from thinc<8.2.0,>=8.1.8->spacy) (0.0.4)\n",
      "Requirement already satisfied: soupsieve>1.2 in /usr/local/lib/python3.10/dist-packages (from beautifulsoup4->bs4) (2.4.1)\n",
      "Requirement already satisfied: MarkupSafe>=2.0 in /usr/local/lib/python3.10/dist-packages (from jinja2->spacy) (2.1.2)\n",
      "Building wheels for collected packages: bs4\n",
      "  Building wheel for bs4 (setup.py) ... \u001b[?25l\u001b[?25hdone\n",
      "  Created wheel for bs4: filename=bs4-0.0.1-py3-none-any.whl size=1257 sha256=91e7d790d33552af33798bae8778a7b12bc6e8077d29384eb8aa988cf4a02046\n",
      "  Stored in directory: /root/.cache/pip/wheels/25/42/45/b773edc52acb16cd2db4cf1a0b47117e2f69bb4eb300ed0e70\n",
      "Successfully built bs4\n",
      "Installing collected packages: bs4\n",
      "Successfully installed bs4-0.0.1\n"
     ]
    }
   ],
   "source": [
    "!pip install nltk spacy textblob bs4"
   ]
  },
  {
   "cell_type": "code",
   "execution_count": 5,
   "id": "zK3mJN024a7f",
   "metadata": {
    "id": "zK3mJN024a7f"
   },
   "outputs": [],
   "source": [
    "sent = \"\"\"The modern Flag of The Republic of India has three colours, which are placed horizontally. At the top is saffron, which signifies sacrifice and patriotism. In the middle is white, which stands for truth in word and actions and purity in our thoughts. At the bottom is green, which stands for life and prosperity. In the middle of the white is a blue wheel, which is called the Ashoka Chakra. It has 24 spokes and it stands for progress.The Chakra or the wheel also symbolizes the Power of the State governed by Dharma. It is also called the tiranga or tricolour. The flag was discovered by Venkayya Pingali. Moirang in Manipur is the first place in India where the National Flag of India was first hoisted. It was in this place where the INA War Museum and the INA Martyrs' Memorial Complex were developed to commemorate the contributions of Netaji Subhash Chandra Bose and his Indian National Army to the Indian Independence Movement.[1]\n",
    "\n",
    "Gandhi first in 1921, Congress spoke of their flag. The flag Pingali Venkayya, who had designed. There were two colours, red for the Hindus, and green for Muslims. Was in the middle of a cycle. For the other religions in the white paint was added. A few days before Independence, the Constituent Assembly national modified. The spinning wheel replaced by the Ashok Chakra Lee. The new flag of the country's second President Sarvepalli Radhakrishnan explained again.\n",
    "\n",
    "The national flag of India the top band of Saffron color, indicating the strength and courage of the country. The strip between the white is a symbol of peace and truth with Dharma Chakra. The lower green stripe fertility, growth and auspiciousness of the land exhibits. Built on the white strip cycle menstrual cycle says. Wheel of Dharma wheel of the law that says the third century BC Mauryan Emperor Ashoka built the Sarnath Temple was taken from. The Chakra intends to show that this is life in movement and death in stagnation.\n",
    "\n",
    "Are estimated using the following transfer in Indian flag colors. In flag saffron, white, green and blue colors that HTML Arljilbi and Web colors in the (hexadecimal notation); CMYK equivalent; Dye color and Penton equal number. \"\"\""
   ]
  },
  {
   "cell_type": "code",
   "execution_count": 1,
   "id": "-rk4m49w5U3K",
   "metadata": {
    "id": "-rk4m49w5U3K"
   },
   "outputs": [],
   "source": [
    "import nltk\n",
    "from nltk.tokenize import TweetTokenizer"
   ]
  },
  {
   "cell_type": "code",
   "execution_count": 2,
   "id": "e2ac318d",
   "metadata": {},
   "outputs": [
    {
     "name": "stderr",
     "output_type": "stream",
     "text": [
      "[nltk_data] Downloading package punkt to /home/dai/nltk_data...\n",
      "[nltk_data]   Package punkt is already up-to-date!\n"
     ]
    },
    {
     "data": {
      "text/plain": [
       "True"
      ]
     },
     "execution_count": 2,
     "metadata": {},
     "output_type": "execute_result"
    }
   ],
   "source": [
    "nltk.download('punkt')"
   ]
  },
  {
   "cell_type": "code",
   "execution_count": null,
   "id": "wKpL0d0i5mn9",
   "metadata": {
    "id": "wKpL0d0i5mn9"
   },
   "outputs": [],
   "source": [
    "tt = TweetTokenizer()\n",
    "words = tt.tokenize(sent)"
   ]
  },
  {
   "cell_type": "markdown",
   "id": "iI6v36yn9nSi",
   "metadata": {
    "id": "iI6v36yn9nSi"
   },
   "source": [
    "### Q1."
   ]
  },
  {
   "cell_type": "code",
   "execution_count": null,
   "id": "wrnEdFdh5p74",
   "metadata": {
    "colab": {
     "base_uri": "https://localhost:8080/"
    },
    "id": "wrnEdFdh5p74",
    "outputId": "0ecbfe4d-d00b-4605-9112-8d27fc54286c"
   },
   "outputs": [
    {
     "name": "stdout",
     "output_type": "stream",
     "text": [
      "The number of words: 364\n"
     ]
    }
   ],
   "source": [
    "ls = []\n",
    "\n",
    "for i in words:\n",
    "    if i.isalpha():\n",
    "        ls.append(i)\n",
    "\n",
    "print(f\"The number of words: {len(ls)}\")"
   ]
  },
  {
   "cell_type": "markdown",
   "id": "VMWG_MJn9qkV",
   "metadata": {
    "id": "VMWG_MJn9qkV"
   },
   "source": [
    "### Q2."
   ]
  },
  {
   "cell_type": "code",
   "execution_count": null,
   "id": "9Pb2XOYo6C-O",
   "metadata": {
    "colab": {
     "base_uri": "https://localhost:8080/"
    },
    "id": "9Pb2XOYo6C-O",
    "outputId": "e1223087-e39b-4868-e2f1-948803f0012e"
   },
   "outputs": [
    {
     "name": "stdout",
     "output_type": "stream",
     "text": [
      "The percentage of punctuations is: 11.566265060240964%\n"
     ]
    }
   ],
   "source": [
    "punc = []\n",
    "\n",
    "for i in words:\n",
    "    if not i.isalnum():\n",
    "        punc.append(i)\n",
    "\n",
    "print(f\"The percentage of punctuations is: {(len(punc)/len(words)*100)}%\")"
   ]
  },
  {
   "cell_type": "markdown",
   "id": "6gm6g5vr9uda",
   "metadata": {
    "id": "6gm6g5vr9uda"
   },
   "source": [
    "### Q3."
   ]
  },
  {
   "cell_type": "code",
   "execution_count": 3,
   "id": "O7qj2J8n7vGh",
   "metadata": {
    "id": "O7qj2J8n7vGh"
   },
   "outputs": [],
   "source": [
    "from nltk.tokenize import sent_tokenize"
   ]
  },
  {
   "cell_type": "code",
   "execution_count": 6,
   "id": "z7gWnNsL837R",
   "metadata": {
    "colab": {
     "base_uri": "https://localhost:8080/",
     "height": 694
    },
    "id": "z7gWnNsL837R",
    "outputId": "4ad137ac-573b-456f-b60c-b44ff9e3f7c7"
   },
   "outputs": [
    {
     "data": {
      "text/plain": [
       "['The modern Flag of The Republic of India has three colours, which are placed horizontally.',\n",
       " 'At the top is saffron, which signifies sacrifice and patriotism.',\n",
       " 'In the middle is white, which stands for truth in word and actions and purity in our thoughts.',\n",
       " 'At the bottom is green, which stands for life and prosperity.',\n",
       " 'In the middle of the white is a blue wheel, which is called the Ashoka Chakra.',\n",
       " 'It has 24 spokes and it stands for progress.The Chakra or the wheel also symbolizes the Power of the State governed by Dharma.',\n",
       " 'It is also called the tiranga or tricolour.',\n",
       " 'The flag was discovered by Venkayya Pingali.',\n",
       " 'Moirang in Manipur is the first place in India where the National Flag of India was first hoisted.',\n",
       " \"It was in this place where the INA War Museum and the INA Martyrs' Memorial Complex were developed to commemorate the contributions of Netaji Subhash Chandra Bose and his Indian National Army to the Indian Independence Movement.\",\n",
       " '[1]\\n\\nGandhi first in 1921, Congress spoke of their flag.',\n",
       " 'The flag Pingali Venkayya, who had designed.',\n",
       " 'There were two colours, red for the Hindus, and green for Muslims.',\n",
       " 'Was in the middle of a cycle.',\n",
       " 'For the other religions in the white paint was added.',\n",
       " 'A few days before Independence, the Constituent Assembly national modified.',\n",
       " 'The spinning wheel replaced by the Ashok Chakra Lee.',\n",
       " \"The new flag of the country's second President Sarvepalli Radhakrishnan explained again.\",\n",
       " 'The national flag of India the top band of Saffron color, indicating the strength and courage of the country.',\n",
       " 'The strip between the white is a symbol of peace and truth with Dharma Chakra.',\n",
       " 'The lower green stripe fertility, growth and auspiciousness of the land exhibits.',\n",
       " 'Built on the white strip cycle menstrual cycle says.',\n",
       " 'Wheel of Dharma wheel of the law that says the third century BC Mauryan Emperor Ashoka built the Sarnath Temple was taken from.',\n",
       " 'The Chakra intends to show that this is life in movement and death in stagnation.',\n",
       " 'Are estimated using the following transfer in Indian flag colors.',\n",
       " 'In flag saffron, white, green and blue colors that HTML Arljilbi and Web colors in the (hexadecimal notation); CMYK equivalent; Dye color and Penton equal number.']"
      ]
     },
     "execution_count": 6,
     "metadata": {},
     "output_type": "execute_result"
    }
   ],
   "source": [
    "sent_tokenize(sent)"
   ]
  },
  {
   "cell_type": "code",
   "execution_count": 7,
   "id": "ohTabpnP8IOr",
   "metadata": {
    "colab": {
     "base_uri": "https://localhost:8080/",
     "height": 728
    },
    "id": "ohTabpnP8IOr",
    "outputId": "0708ce32-42cf-46af-8635-6a89fc998ac4"
   },
   "outputs": [
    {
     "name": "stdout",
     "output_type": "stream",
     "text": [
      "The number of sentences:26\n"
     ]
    }
   ],
   "source": [
    "sents = sent_tokenize(sent)\n",
    "\n",
    "print(f\"The number of sentences:{len(sents)}\")"
   ]
  },
  {
   "cell_type": "markdown",
   "id": "c873e402",
   "metadata": {},
   "source": [
    "## Q4."
   ]
  },
  {
   "cell_type": "code",
   "execution_count": 8,
   "id": "60b2a79b",
   "metadata": {},
   "outputs": [],
   "source": [
    "from nltk.tokenize import word_tokenize"
   ]
  },
  {
   "cell_type": "code",
   "execution_count": 9,
   "id": "a19f6f2a",
   "metadata": {},
   "outputs": [],
   "source": [
    "# count Title case words                                                                                                                                                                                                                                                                                                                                                                                                                                                                                                                                                                                                                                                                                                                                                                                                                                                                                                                                                                                                                                                                      n                                                                                                                                                                                                                                                                                                                                                                                                                                                                                                                                                                                                                                                                                                                                                                                                                                                                                                             \n",
    "\n",
    "words = word_tokenize(sent)"
   ]
  },
  {
   "cell_type": "code",
   "execution_count": 19,
   "id": "b8598ae5",
   "metadata": {},
   "outputs": [],
   "source": [
    "alph = [word for word in words if word.isalpha() & word.istitle()]"
   ]
  },
  {
   "cell_type": "code",
   "execution_count": 20,
   "id": "fe0934a7",
   "metadata": {},
   "outputs": [
    {
     "name": "stdout",
     "output_type": "stream",
     "text": [
      "The count for title case is:88\n"
     ]
    }
   ],
   "source": [
    "print(f\"The count for title case is:{len(alph)}\")"
   ]
  },
  {
   "cell_type": "markdown",
   "id": "DqVpy6EU9x4s",
   "metadata": {
    "id": "DqVpy6EU9x4s"
   },
   "source": [
    "### Q5."
   ]
  },
  {
   "cell_type": "code",
   "execution_count": null,
   "id": "m8OvgZXX8cjy",
   "metadata": {
    "colab": {
     "base_uri": "https://localhost:8080/",
     "height": 122
    },
    "id": "m8OvgZXX8cjy",
    "outputId": "b8ab19e7-3f09-46b0-ea2d-3b09a7b790b7"
   },
   "outputs": [
    {
     "data": {
      "application/vnd.google.colaboratory.intrinsic+json": {
       "type": "string"
      },
      "text/plain": [
       "'The modern Flag of The Republic of India has three colours which are placed horizontally At the top is saffron which signifies sacrifice and patriotism In the middle is white which stands for truth in word and actions and purity in our thoughts At the bottom is green which stands for life and prosperity In the middle of the white is a blue wheel which is called the Ashoka Chakra It has spokes and it stands for Chakra or the wheel also symbolizes the Power of the State governed by Dharma It is also called the tiranga or tricolour The flag was discovered by Venkayya Pingali Moirang in Manipur is the first place in India where the National Flag of India was first hoisted It was in this place where the INA War Museum and the INA Martyrs Memorial Complex were developed to commemorate the contributions of Netaji Subhash Chandra Bose and his Indian National Army to the Indian Independence Movement Gandhi first in Congress spoke of their flag The flag Pingali Venkayya who had designed There were two colours red for the Hindus and green for Muslims Was in the middle of a cycle For the other religions in the white paint was added A few days before Independence the Constituent Assembly national modified The spinning wheel replaced by the Ashok Chakra Lee The new flag of the second President Sarvepalli Radhakrishnan explained again The national flag of India the top band of Saffron color indicating the strength and courage of the country The strip between the white is a symbol of peace and truth with Dharma Chakra The lower green stripe fertility growth and auspiciousness of the land exhibits Built on the white strip cycle menstrual cycle says Wheel of Dharma wheel of the law that says the third century BC Mauryan Emperor Ashoka built the Sarnath Temple was taken from The Chakra intends to show that this is life in movement and death in stagnation Are estimated using the following transfer in Indian flag colors In flag saffron white green and blue colors that HTML Arljilbi and Web colors in the hexadecimal notation CMYK equivalent Dye color and Penton equal number'"
      ]
     },
     "execution_count": 16,
     "metadata": {},
     "output_type": "execute_result"
    }
   ],
   "source": [
    "# remove the nums and print text\n",
    "\n",
    "\" \".join(word for word in words if word.isalpha())"
   ]
  },
  {
   "cell_type": "code",
   "execution_count": null,
   "id": "xgz9lY2-9idY",
   "metadata": {
    "id": "xgz9lY2-9idY"
   },
   "outputs": [],
   "source": []
  }
 ],
 "metadata": {
  "colab": {
   "provenance": []
  },
  "kernelspec": {
   "display_name": "Python 3 (ipykernel)",
   "language": "python",
   "name": "python3"
  },
  "language_info": {
   "codemirror_mode": {
    "name": "ipython",
    "version": 3
   },
   "file_extension": ".py",
   "mimetype": "text/x-python",
   "name": "python",
   "nbconvert_exporter": "python",
   "pygments_lexer": "ipython3",
   "version": "3.9.12"
  }
 },
 "nbformat": 4,
 "nbformat_minor": 5
}
