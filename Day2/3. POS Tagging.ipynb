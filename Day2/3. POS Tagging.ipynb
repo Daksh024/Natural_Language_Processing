{
 "cells": [
  {
   "cell_type": "code",
   "execution_count": 5,
   "id": "74dee0f0",
   "metadata": {},
   "outputs": [],
   "source": [
    "from nltk import pos_tag\n",
    "\n",
    "from nltk.tokenize import word_tokenize"
   ]
  },
  {
   "cell_type": "code",
   "execution_count": 6,
   "id": "daa35796",
   "metadata": {},
   "outputs": [],
   "source": [
    "text = \"\"\"The headwaters of the Apurímac River on Nevado Mismi had been considered for nearly a century the Amazon basin's most distant source until a 2014 study found it to be the headwaters of the Mantaro River on the Cordillera Rumi Cruz in Peru.[21] The Mantaro and Apurímac rivers join, and with other tributaries form the Ucayali River, which in turn meets the Marañón River upstream of Iquitos, Peru, forming what countries other than Brazil consider to be the main stem of the Amazon. Brazilians call this section the Solimões River above its confluence with the Rio Negro[22] forming what Brazilians call the Amazon at the Meeting of Waters (Portuguese: Encontro das Águas) at Manaus, the largest city on the river.\n",
    "\n",
    "The Amazon River has an average discharge of about 215,000–230,000 m3/s (7,600,000–8,100,000 cu ft/s)—approximately 6,591–7,570 km3 (1,581–1,816 cu mi) per year, greater than the next seven largest independent rivers combined. Two of the top ten rivers by discharge are tributaries of the Amazon river. The Amazon represents 20% of the global riverine discharge into oceans.[23] The Amazon basin is the largest drainage basin in the world, with an area of approximately 7,000,000 km2 (2,700,000 sq mi).[2] The portion of the river's drainage basin in Brazil alone is larger than any other river's basin. The Amazon enters Brazil with only one-fifth of the flow it finally discharges into the Atlantic Ocean, yet already has a greater flow at this point than the discharge of any other river.[24][25]\n",
    "\n",
    "\"\"\""
   ]
  },
  {
   "cell_type": "code",
   "execution_count": 8,
   "id": "a523cf70",
   "metadata": {},
   "outputs": [],
   "source": [
    "tags = pos_tag(word_tokenize(text))"
   ]
  },
  {
   "cell_type": "code",
   "execution_count": 9,
   "id": "1fa8b938",
   "metadata": {},
   "outputs": [
    {
     "data": {
      "text/plain": [
       "[('The', 'DT'),\n",
       " ('headwaters', 'NNS'),\n",
       " ('of', 'IN'),\n",
       " ('the', 'DT'),\n",
       " ('Apurímac', 'NNP'),\n",
       " ('River', 'NNP'),\n",
       " ('on', 'IN'),\n",
       " ('Nevado', 'NNP'),\n",
       " ('Mismi', 'NNP'),\n",
       " ('had', 'VBD'),\n",
       " ('been', 'VBN'),\n",
       " ('considered', 'VBN'),\n",
       " ('for', 'IN'),\n",
       " ('nearly', 'RB'),\n",
       " ('a', 'DT'),\n",
       " ('century', 'NN'),\n",
       " ('the', 'DT'),\n",
       " ('Amazon', 'NNP'),\n",
       " ('basin', 'NN'),\n",
       " (\"'s\", 'POS'),\n",
       " ('most', 'RBS'),\n",
       " ('distant', 'JJ'),\n",
       " ('source', 'NN'),\n",
       " ('until', 'IN'),\n",
       " ('a', 'DT'),\n",
       " ('2014', 'CD'),\n",
       " ('study', 'NN'),\n",
       " ('found', 'VBD'),\n",
       " ('it', 'PRP'),\n",
       " ('to', 'TO'),\n",
       " ('be', 'VB'),\n",
       " ('the', 'DT'),\n",
       " ('headwaters', 'NNS'),\n",
       " ('of', 'IN'),\n",
       " ('the', 'DT'),\n",
       " ('Mantaro', 'NNP'),\n",
       " ('River', 'NNP'),\n",
       " ('on', 'IN'),\n",
       " ('the', 'DT'),\n",
       " ('Cordillera', 'NNP'),\n",
       " ('Rumi', 'NNP'),\n",
       " ('Cruz', 'NNP'),\n",
       " ('in', 'IN'),\n",
       " ('Peru', 'NNP'),\n",
       " ('.', '.'),\n",
       " ('[', 'CC'),\n",
       " ('21', 'CD'),\n",
       " (']', 'IN'),\n",
       " ('The', 'DT'),\n",
       " ('Mantaro', 'NNP'),\n",
       " ('and', 'CC'),\n",
       " ('Apurímac', 'NNP'),\n",
       " ('rivers', 'NNS'),\n",
       " ('join', 'VBP'),\n",
       " (',', ','),\n",
       " ('and', 'CC'),\n",
       " ('with', 'IN'),\n",
       " ('other', 'JJ'),\n",
       " ('tributaries', 'NNS'),\n",
       " ('form', 'VBP'),\n",
       " ('the', 'DT'),\n",
       " ('Ucayali', 'NNP'),\n",
       " ('River', 'NNP'),\n",
       " (',', ','),\n",
       " ('which', 'WDT'),\n",
       " ('in', 'IN'),\n",
       " ('turn', 'NN'),\n",
       " ('meets', 'NNS'),\n",
       " ('the', 'DT'),\n",
       " ('Marañón', 'NNP'),\n",
       " ('River', 'NNP'),\n",
       " ('upstream', 'NN'),\n",
       " ('of', 'IN'),\n",
       " ('Iquitos', 'NNP'),\n",
       " (',', ','),\n",
       " ('Peru', 'NNP'),\n",
       " (',', ','),\n",
       " ('forming', 'VBG'),\n",
       " ('what', 'WP'),\n",
       " ('countries', 'NNS'),\n",
       " ('other', 'JJ'),\n",
       " ('than', 'IN'),\n",
       " ('Brazil', 'NNP'),\n",
       " ('consider', 'VB'),\n",
       " ('to', 'TO'),\n",
       " ('be', 'VB'),\n",
       " ('the', 'DT'),\n",
       " ('main', 'JJ'),\n",
       " ('stem', 'NN'),\n",
       " ('of', 'IN'),\n",
       " ('the', 'DT'),\n",
       " ('Amazon', 'NNP'),\n",
       " ('.', '.'),\n",
       " ('Brazilians', 'NNPS'),\n",
       " ('call', 'VBP'),\n",
       " ('this', 'DT'),\n",
       " ('section', 'NN'),\n",
       " ('the', 'DT'),\n",
       " ('Solimões', 'NNP'),\n",
       " ('River', 'NNP'),\n",
       " ('above', 'IN'),\n",
       " ('its', 'PRP$'),\n",
       " ('confluence', 'NN'),\n",
       " ('with', 'IN'),\n",
       " ('the', 'DT'),\n",
       " ('Rio', 'NNP'),\n",
       " ('Negro', 'NNP'),\n",
       " ('[', 'VBD'),\n",
       " ('22', 'CD'),\n",
       " (']', 'NN'),\n",
       " ('forming', 'VBG'),\n",
       " ('what', 'WP'),\n",
       " ('Brazilians', 'NNPS'),\n",
       " ('call', 'VBP'),\n",
       " ('the', 'DT'),\n",
       " ('Amazon', 'NNP'),\n",
       " ('at', 'IN'),\n",
       " ('the', 'DT'),\n",
       " ('Meeting', 'NN'),\n",
       " ('of', 'IN'),\n",
       " ('Waters', 'NNP'),\n",
       " ('(', '('),\n",
       " ('Portuguese', 'JJ'),\n",
       " (':', ':'),\n",
       " ('Encontro', 'NNP'),\n",
       " ('das', 'VB'),\n",
       " ('Águas', 'NNP'),\n",
       " (')', ')'),\n",
       " ('at', 'IN'),\n",
       " ('Manaus', 'NNP'),\n",
       " (',', ','),\n",
       " ('the', 'DT'),\n",
       " ('largest', 'JJS'),\n",
       " ('city', 'NN'),\n",
       " ('on', 'IN'),\n",
       " ('the', 'DT'),\n",
       " ('river', 'NN'),\n",
       " ('.', '.'),\n",
       " ('The', 'DT'),\n",
       " ('Amazon', 'NNP'),\n",
       " ('River', 'NNP'),\n",
       " ('has', 'VBZ'),\n",
       " ('an', 'DT'),\n",
       " ('average', 'JJ'),\n",
       " ('discharge', 'NN'),\n",
       " ('of', 'IN'),\n",
       " ('about', 'IN'),\n",
       " ('215,000–230,000', 'CD'),\n",
       " ('m3/s', 'NNS'),\n",
       " ('(', '('),\n",
       " ('7,600,000–8,100,000', 'CD'),\n",
       " ('cu', 'NN'),\n",
       " ('ft/s', 'NN'),\n",
       " (')', ')'),\n",
       " ('—approximately', 'RB'),\n",
       " ('6,591–7,570', 'CD'),\n",
       " ('km3', 'NNS'),\n",
       " ('(', '('),\n",
       " ('1,581–1,816', 'CD'),\n",
       " ('cu', 'NN'),\n",
       " ('mi', 'NN'),\n",
       " (')', ')'),\n",
       " ('per', 'IN'),\n",
       " ('year', 'NN'),\n",
       " (',', ','),\n",
       " ('greater', 'JJR'),\n",
       " ('than', 'IN'),\n",
       " ('the', 'DT'),\n",
       " ('next', 'JJ'),\n",
       " ('seven', 'CD'),\n",
       " ('largest', 'JJS'),\n",
       " ('independent', 'JJ'),\n",
       " ('rivers', 'NNS'),\n",
       " ('combined', 'VBN'),\n",
       " ('.', '.'),\n",
       " ('Two', 'CD'),\n",
       " ('of', 'IN'),\n",
       " ('the', 'DT'),\n",
       " ('top', 'JJ'),\n",
       " ('ten', 'NN'),\n",
       " ('rivers', 'NNS'),\n",
       " ('by', 'IN'),\n",
       " ('discharge', 'NN'),\n",
       " ('are', 'VBP'),\n",
       " ('tributaries', 'NNS'),\n",
       " ('of', 'IN'),\n",
       " ('the', 'DT'),\n",
       " ('Amazon', 'NNP'),\n",
       " ('river', 'NN'),\n",
       " ('.', '.'),\n",
       " ('The', 'DT'),\n",
       " ('Amazon', 'NNP'),\n",
       " ('represents', 'VBZ'),\n",
       " ('20', 'CD'),\n",
       " ('%', 'NN'),\n",
       " ('of', 'IN'),\n",
       " ('the', 'DT'),\n",
       " ('global', 'JJ'),\n",
       " ('riverine', 'NN'),\n",
       " ('discharge', 'NN'),\n",
       " ('into', 'IN'),\n",
       " ('oceans', 'NNS'),\n",
       " ('.', '.'),\n",
       " ('[', '$'),\n",
       " ('23', 'CD'),\n",
       " (']', 'IN'),\n",
       " ('The', 'DT'),\n",
       " ('Amazon', 'NNP'),\n",
       " ('basin', 'NN'),\n",
       " ('is', 'VBZ'),\n",
       " ('the', 'DT'),\n",
       " ('largest', 'JJS'),\n",
       " ('drainage', 'NN'),\n",
       " ('basin', 'NN'),\n",
       " ('in', 'IN'),\n",
       " ('the', 'DT'),\n",
       " ('world', 'NN'),\n",
       " (',', ','),\n",
       " ('with', 'IN'),\n",
       " ('an', 'DT'),\n",
       " ('area', 'NN'),\n",
       " ('of', 'IN'),\n",
       " ('approximately', 'RB'),\n",
       " ('7,000,000', 'CD'),\n",
       " ('km2', 'NNS'),\n",
       " ('(', '('),\n",
       " ('2,700,000', 'CD'),\n",
       " ('sq', 'NN'),\n",
       " ('mi', 'NN'),\n",
       " (')', ')'),\n",
       " ('.', '.'),\n",
       " ('[', '$'),\n",
       " ('2', 'CD'),\n",
       " (']', 'IN'),\n",
       " ('The', 'DT'),\n",
       " ('portion', 'NN'),\n",
       " ('of', 'IN'),\n",
       " ('the', 'DT'),\n",
       " ('river', 'NN'),\n",
       " (\"'s\", 'POS'),\n",
       " ('drainage', 'NN'),\n",
       " ('basin', 'NN'),\n",
       " ('in', 'IN'),\n",
       " ('Brazil', 'NNP'),\n",
       " ('alone', 'RB'),\n",
       " ('is', 'VBZ'),\n",
       " ('larger', 'JJR'),\n",
       " ('than', 'IN'),\n",
       " ('any', 'DT'),\n",
       " ('other', 'JJ'),\n",
       " ('river', 'NN'),\n",
       " (\"'s\", 'POS'),\n",
       " ('basin', 'NN'),\n",
       " ('.', '.'),\n",
       " ('The', 'DT'),\n",
       " ('Amazon', 'NNP'),\n",
       " ('enters', 'NNS'),\n",
       " ('Brazil', 'NNP'),\n",
       " ('with', 'IN'),\n",
       " ('only', 'RB'),\n",
       " ('one-fifth', 'NN'),\n",
       " ('of', 'IN'),\n",
       " ('the', 'DT'),\n",
       " ('flow', 'NN'),\n",
       " ('it', 'PRP'),\n",
       " ('finally', 'RB'),\n",
       " ('discharges', 'VBZ'),\n",
       " ('into', 'IN'),\n",
       " ('the', 'DT'),\n",
       " ('Atlantic', 'NNP'),\n",
       " ('Ocean', 'NNP'),\n",
       " (',', ','),\n",
       " ('yet', 'RB'),\n",
       " ('already', 'RB'),\n",
       " ('has', 'VBZ'),\n",
       " ('a', 'DT'),\n",
       " ('greater', 'JJR'),\n",
       " ('flow', 'NN'),\n",
       " ('at', 'IN'),\n",
       " ('this', 'DT'),\n",
       " ('point', 'NN'),\n",
       " ('than', 'IN'),\n",
       " ('the', 'DT'),\n",
       " ('discharge', 'NN'),\n",
       " ('of', 'IN'),\n",
       " ('any', 'DT'),\n",
       " ('other', 'JJ'),\n",
       " ('river', 'NN'),\n",
       " ('.', '.'),\n",
       " ('[', 'CC'),\n",
       " ('24', 'CD'),\n",
       " (']', 'JJ'),\n",
       " ('[', '$'),\n",
       " ('25', 'CD'),\n",
       " (']', 'NN')]"
      ]
     },
     "execution_count": 9,
     "metadata": {},
     "output_type": "execute_result"
    }
   ],
   "source": [
    "tags"
   ]
  },
  {
   "cell_type": "code",
   "execution_count": 11,
   "id": "c432081a",
   "metadata": {
    "scrolled": false
   },
   "outputs": [
    {
     "name": "stdout",
     "output_type": "stream",
     "text": [
      "headwaters\n",
      "Apurímac\n",
      "River\n",
      "Nevado\n",
      "Mismi\n",
      "century\n",
      "Amazon\n",
      "basin\n",
      "source\n",
      "study\n",
      "headwaters\n",
      "Mantaro\n",
      "River\n",
      "Cordillera\n",
      "Rumi\n",
      "Cruz\n",
      "Peru\n",
      "Mantaro\n",
      "Apurímac\n",
      "rivers\n",
      "tributaries\n",
      "Ucayali\n",
      "River\n",
      "turn\n",
      "meets\n",
      "Marañón\n",
      "River\n",
      "upstream\n",
      "Iquitos\n",
      "Peru\n",
      "countries\n",
      "Brazil\n",
      "stem\n",
      "Amazon\n",
      "Brazilians\n",
      "section\n",
      "Solimões\n",
      "River\n",
      "confluence\n",
      "Rio\n",
      "Negro\n",
      "]\n",
      "Brazilians\n",
      "Amazon\n",
      "Meeting\n",
      "Waters\n",
      "Encontro\n",
      "Águas\n",
      "Manaus\n",
      "city\n",
      "river\n",
      "Amazon\n",
      "River\n",
      "discharge\n",
      "m3/s\n",
      "cu\n",
      "ft/s\n",
      "km3\n",
      "cu\n",
      "mi\n",
      "year\n",
      "rivers\n",
      "ten\n",
      "rivers\n",
      "discharge\n",
      "tributaries\n",
      "Amazon\n",
      "river\n",
      "Amazon\n",
      "%\n",
      "riverine\n",
      "discharge\n",
      "oceans\n",
      "Amazon\n",
      "basin\n",
      "drainage\n",
      "basin\n",
      "world\n",
      "area\n",
      "km2\n",
      "sq\n",
      "mi\n",
      "portion\n",
      "river\n",
      "drainage\n",
      "basin\n",
      "Brazil\n",
      "river\n",
      "basin\n",
      "Amazon\n",
      "enters\n",
      "Brazil\n",
      "one-fifth\n",
      "flow\n",
      "Atlantic\n",
      "Ocean\n",
      "flow\n",
      "point\n",
      "discharge\n",
      "river\n",
      "]\n"
     ]
    }
   ],
   "source": [
    "for word,tag in tags:\n",
    "    if tag.startswith('N'):\n",
    "        print(word)\n"
   ]
  },
  {
   "cell_type": "code",
   "execution_count": 17,
   "id": "038ce8bc",
   "metadata": {},
   "outputs": [
    {
     "name": "stdout",
     "output_type": "stream",
     "text": [
      "['headwaters', 'Apurímac', 'River', 'Nevado', 'Mismi', 'century', 'Amazon', 'basin', 'source', 'study', 'headwaters', 'Mantaro', 'River', 'Cordillera', 'Rumi', 'Cruz', 'Peru', 'Mantaro', 'Apurímac', 'rivers', 'tributaries', 'Ucayali', 'River', 'turn', 'meets', 'Marañón', 'River', 'upstream', 'Iquitos', 'Peru', 'countries', 'Brazil', 'stem', 'Amazon', 'Brazilians', 'section', 'Solimões', 'River', 'confluence', 'Rio', 'Negro', 'Brazilians', 'Amazon', 'Meeting', 'Waters', 'Encontro', 'Águas', 'Manaus', 'city', 'river', 'Amazon', 'River', 'discharge', 'cu', 'cu', 'mi', 'year', 'rivers', 'ten', 'rivers', 'discharge', 'tributaries', 'Amazon', 'river', 'Amazon', 'riverine', 'discharge', 'oceans', 'Amazon', 'basin', 'drainage', 'basin', 'world', 'area', 'sq', 'mi', 'portion', 'river', 'drainage', 'basin', 'Brazil', 'river', 'basin', 'Amazon', 'enters', 'Brazil', 'flow', 'Atlantic', 'Ocean', 'flow', 'point', 'discharge', 'river']\n",
      "\n",
      "set:\n",
      " {'basin', 'Negro', 'Waters', 'Solimões', 'Ocean', 'enters', 'century', 'River', 'city', 'meets', 'upstream', 'headwaters', 'Brazil', 'confluence', 'Manaus', 'Mismi', 'Peru', 'world', 'Cordillera', 'Brazilians', 'section', 'oceans', 'portion', 'Mantaro', 'Meeting', 'year', 'study', 'cu', 'Atlantic', 'riverine', 'sq', 'tributaries', 'Águas', 'rivers', 'Marañón', 'Apurímac', 'area', 'river', 'point', 'countries', 'Cruz', 'Iquitos', 'stem', 'drainage', 'Rumi', 'Rio', 'mi', 'Encontro', 'turn', 'source', 'Nevado', 'flow', 'Amazon', 'ten', 'discharge', 'Ucayali'}\n"
     ]
    },
    {
     "data": {
      "text/plain": [
       "56"
      ]
     },
     "execution_count": 17,
     "metadata": {},
     "output_type": "execute_result"
    }
   ],
   "source": [
    "t = [word for word,tag in tags if tag.startswith('N') & word.isalpha()]\n",
    "print(t)\n",
    "print(\"\\nset:\\n\",set(t))\n",
    "len(set(t))"
   ]
  },
  {
   "cell_type": "code",
   "execution_count": 18,
   "id": "05fcf273",
   "metadata": {},
   "outputs": [
    {
     "name": "stdout",
     "output_type": "stream",
     "text": [
      "['Headwaters', 'Apurímac', 'River', 'Nevado', 'Mismi', 'Century', 'Amazon', 'Basin', 'Source', 'Study', 'Headwaters', 'Mantaro', 'River', 'Cordillera', 'Rumi', 'Cruz', 'Peru', 'Mantaro', 'Apurímac', 'Rivers', 'Tributaries', 'Ucayali', 'River', 'Turn', 'Meets', 'Marañón', 'River', 'Upstream', 'Iquitos', 'Peru', 'Countries', 'Brazil', 'Stem', 'Amazon', 'Brazilians', 'Section', 'Solimões', 'River', 'Confluence', 'Rio', 'Negro', 'Brazilians', 'Amazon', 'Meeting', 'Waters', 'Encontro', 'Águas', 'Manaus', 'City', 'River', 'Amazon', 'River', 'Discharge', 'Cu', 'Cu', 'Mi', 'Year', 'Rivers', 'Ten', 'Rivers', 'Discharge', 'Tributaries', 'Amazon', 'River', 'Amazon', 'Riverine', 'Discharge', 'Oceans', 'Amazon', 'Basin', 'Drainage', 'Basin', 'World', 'Area', 'Sq', 'Mi', 'Portion', 'River', 'Drainage', 'Basin', 'Brazil', 'River', 'Basin', 'Amazon', 'Enters', 'Brazil', 'Flow', 'Atlantic', 'Ocean', 'Flow', 'Point', 'Discharge', 'River']\n",
      "\n",
      "set:\n",
      " {'Negro', 'Year', 'Waters', 'Solimões', 'Riverine', 'Ocean', 'Drainage', 'Enters', 'River', 'Confluence', 'Brazil', 'Manaus', 'Mismi', 'Peru', 'Cordillera', 'Brazilians', 'Tributaries', 'Stem', 'Cu', 'World', 'Mantaro', 'Meeting', 'Source', 'Rivers', 'Oceans', 'Upstream', 'Portion', 'Area', 'Atlantic', 'Turn', 'Sq', 'Headwaters', 'Discharge', 'Countries', 'Águas', 'Section', 'Century', 'Apurímac', 'Marañón', 'Cruz', 'Iquitos', 'Point', 'Study', 'City', 'Meets', 'Flow', 'Rumi', 'Rio', 'Encontro', 'Basin', 'Ten', 'Nevado', 'Mi', 'Amazon', 'Ucayali'}\n"
     ]
    },
    {
     "data": {
      "text/plain": [
       "55"
      ]
     },
     "execution_count": 18,
     "metadata": {},
     "output_type": "execute_result"
    }
   ],
   "source": [
    "t = [word.title() for word,tag in tags if tag.startswith('N') & word.isalpha()]\n",
    "print(t)\n",
    "print(\"\\nset:\\n\",set(t))\n",
    "len(set(t))"
   ]
  },
  {
   "cell_type": "markdown",
   "id": "1a1acacf",
   "metadata": {},
   "source": [
    "## Tagging Inadian Languages"
   ]
  },
  {
   "cell_type": "code",
   "execution_count": 66,
   "id": "3df23766",
   "metadata": {},
   "outputs": [],
   "source": [
    "from nltk.corpus import indian\n",
    "from nltk.tag import TnT"
   ]
  },
  {
   "cell_type": "code",
   "execution_count": 67,
   "id": "db7845ca",
   "metadata": {},
   "outputs": [
    {
     "data": {
      "text/plain": [
       "['bangla.pos', 'hindi.pos', 'marathi.pos', 'telugu.pos']"
      ]
     },
     "execution_count": 67,
     "metadata": {},
     "output_type": "execute_result"
    }
   ],
   "source": [
    "[X for X in indian.fileids()]"
   ]
  },
  {
   "cell_type": "code",
   "execution_count": 68,
   "id": "5e784518",
   "metadata": {},
   "outputs": [
    {
     "data": {
      "text/plain": [
       "[('bangla.pos', 10281),\n",
       " ('hindi.pos', 9408),\n",
       " ('marathi.pos', 19066),\n",
       " ('telugu.pos', 9999)]"
      ]
     },
     "execution_count": 68,
     "metadata": {},
     "output_type": "execute_result"
    }
   ],
   "source": [
    "[(X , len(indian.words(X))) for X in indian.fileids()]"
   ]
  },
  {
   "cell_type": "code",
   "execution_count": 69,
   "id": "6f2c933d",
   "metadata": {},
   "outputs": [
    {
     "data": {
      "text/plain": [
       "[('bangla.pos', 896),\n",
       " ('hindi.pos', 540),\n",
       " ('marathi.pos', 1197),\n",
       " ('telugu.pos', 994)]"
      ]
     },
     "execution_count": 69,
     "metadata": {},
     "output_type": "execute_result"
    }
   ],
   "source": [
    "[(X , len(indian.sents(X))) for X in indian.fileids()]"
   ]
  },
  {
   "cell_type": "code",
   "execution_count": 78,
   "id": "9bbf758f",
   "metadata": {},
   "outputs": [],
   "source": [
    "sents = indian.sents('marathi.pos')"
   ]
  },
  {
   "cell_type": "code",
   "execution_count": 79,
   "id": "ac9dc143",
   "metadata": {},
   "outputs": [
    {
     "data": {
      "text/plain": [
       "[[\"''\", 'सनातनवाद्यांनी', 'व', 'प्रतिगाम्यांनी', 'समाज', 'रसातळाला', 'नेला', 'असताना', 'या', 'अंधारात', 'बाळशास्त्री', 'जांभेकर', 'यांनी', \"'दर्पण'च्या\", 'माध्यमातून', 'पहिली', 'ज्ञानज्योत', 'तेववली', ',', \"''\", 'असे', 'प्रतिपादन', 'नटसम्राट', 'प्रभाकर', 'पणशीकर', 'यांनी', 'केले', '.'], ['दर्पणकार', 'बाळशास्त्री', 'जांभेकर', 'यांच्या', '१९५व्या', 'जयंतीनिमित्त', 'महाराष्ट्र', 'संपादक', 'परिषद', 'व', 'सिंधुदुर्ग', 'जिल्हा', 'मराठी', 'पत्रकार', 'संघाच्या', 'वतीने', 'तसेच', 'महाराष्ट्र', 'जर्नलिस्ट', 'फाउंडेशन', 'व', 'महाराष्ट्र', 'ग्रामीण', 'पत्रकार', 'संघाच्या', 'सहभागाने', 'अभिवादन', 'कार्यक्रम', 'आयोजित', 'केला', 'होता', '.'], ...]"
      ]
     },
     "execution_count": 79,
     "metadata": {},
     "output_type": "execute_result"
    }
   ],
   "source": [
    "sents"
   ]
  },
  {
   "cell_type": "code",
   "execution_count": 94,
   "id": "4e3f44ee",
   "metadata": {},
   "outputs": [],
   "source": [
    "pos = indian.tagged_sents('marathi.pos')"
   ]
  },
  {
   "cell_type": "code",
   "execution_count": 95,
   "id": "8782e8e6",
   "metadata": {},
   "outputs": [
    {
     "data": {
      "text/plain": [
       "[[(\"''\", 'SYM'), ('सनातनवाद्यांनी', 'NN'), ('व', 'CC'), ('प्रतिगाम्यांनी', 'NN'), ('समाज', 'NN'), ('रसातळाला', 'NN'), ('नेला', 'VM'), ('असताना', 'VAUX'), ('या', 'DEM'), ('अंधारात', 'NN'), ('बाळशास्त्री', 'NNPC'), ('जांभेकर', 'NNP'), ('यांनी', 'PRP'), (\"'दर्पण'च्या\", 'NNP'), ('माध्यमातून', 'NN'), ('पहिली', 'QO'), ('ज्ञानज्योत', 'NN'), ('तेववली', 'VM'), (',', 'SYM'), (\"''\", 'SYM'), ('असे', 'DEM'), ('प्रतिपादन', 'NN'), ('नटसम्राट', 'NNPC'), ('प्रभाकर', 'NNPC'), ('पणशीकर', 'NNP'), ('यांनी', 'PRP'), ('केले', 'VM'), ('.', 'SYM')], [('दर्पणकार', 'JJ'), ('बाळशास्त्री', 'NNPC'), ('जांभेकर', 'NNP'), ('यांच्या', 'PRP'), ('१९५व्या', 'QC'), ('जयंतीनिमित्त', 'NN'), ('महाराष्ट्र', 'NNPC'), ('संपादक', 'NNPC'), ('परिषद', 'NNP'), ('व', 'CC'), ('सिंधुदुर्ग', 'NNPC'), ('जिल्हा', 'NNPC'), ('मराठी', 'NNPC'), ('पत्रकार', 'NNPC'), ('संघाच्या', 'NNP'), ('वतीने', 'NN'), ('तसेच', 'PRP'), ('महाराष्ट्र', 'NNPC'), ('जर्नलिस्ट', 'NNPC'), ('फाउंडेशन', 'NNP'), ('व', 'CC'), ('महाराष्ट्र', 'NNPC'), ('ग्रामीण', 'NNPC'), ('पत्रकार', 'NNPC'), ('संघाच्या', 'NNP'), ('सहभागाने', 'NN'), ('अभिवादन', 'NN'), ('कार्यक्रम', 'NN'), ('आयोजित', 'JJ'), ('केला', 'VM'), ('होता', 'VAUX'), ('.', 'SYM')], ...]"
      ]
     },
     "execution_count": 95,
     "metadata": {},
     "output_type": "execute_result"
    }
   ],
   "source": [
    "pos"
   ]
  },
  {
   "cell_type": "code",
   "execution_count": 96,
   "id": "f997e311",
   "metadata": {},
   "outputs": [],
   "source": [
    "tagger = TnT()"
   ]
  },
  {
   "cell_type": "code",
   "execution_count": 97,
   "id": "4905cb48",
   "metadata": {},
   "outputs": [],
   "source": [
    "tagger.train(pos)"
   ]
  },
  {
   "cell_type": "code",
   "execution_count": 98,
   "id": "4d9cd10d",
   "metadata": {},
   "outputs": [],
   "source": [
    "sent = \"हा सामना सुमारे आठ तास उशिरा सुरू झाला नाहीये.\""
   ]
  },
  {
   "cell_type": "code",
   "execution_count": 99,
   "id": "5c7ecdd5",
   "metadata": {},
   "outputs": [
    {
     "data": {
      "text/plain": [
       "[('हा', 'DEM'),\n",
       " ('सामना', 'NN'),\n",
       " ('सुमारे', 'QF'),\n",
       " ('आठ', 'QC'),\n",
       " ('तास', 'NN'),\n",
       " ('उशिरा', 'NN'),\n",
       " ('सुरू', 'JJ'),\n",
       " ('झाला', 'VM'),\n",
       " ('नाहीये', 'VM'),\n",
       " ('.', 'SYM')]"
      ]
     },
     "execution_count": 99,
     "metadata": {},
     "output_type": "execute_result"
    }
   ],
   "source": [
    "tagger.tag(word_tokenize(sent))"
   ]
  },
  {
   "cell_type": "code",
   "execution_count": 100,
   "id": "bc015b92",
   "metadata": {},
   "outputs": [],
   "source": [
    "sen = 'भय इथले संपत नाही. मझ तूझी आठवण येते. मी संध्याकाळी गातो.' "
   ]
  },
  {
   "cell_type": "code",
   "execution_count": 101,
   "id": "163abcc6",
   "metadata": {},
   "outputs": [
    {
     "data": {
      "text/plain": [
       "[('भय', 'Unk'),\n",
       " ('इथले', 'Unk'),\n",
       " ('संपत', 'NNPC'),\n",
       " ('नाही', 'VAUX'),\n",
       " ('.', 'SYM'),\n",
       " ('मझ', 'Unk'),\n",
       " ('तूझी', 'Unk'),\n",
       " ('आठवण', 'Unk'),\n",
       " ('येते', 'VAUX'),\n",
       " ('.', 'SYM'),\n",
       " ('मी', 'PRP'),\n",
       " ('संध्याकाळी', 'VM'),\n",
       " ('गातो', 'VM'),\n",
       " ('.', 'SYM')]"
      ]
     },
     "execution_count": 101,
     "metadata": {},
     "output_type": "execute_result"
    }
   ],
   "source": [
    "tagger.tag(word_tokenize(sen))"
   ]
  },
  {
   "cell_type": "code",
   "execution_count": null,
   "id": "8a34204f",
   "metadata": {},
   "outputs": [],
   "source": []
  },
  {
   "cell_type": "code",
   "execution_count": null,
   "id": "02cb4732",
   "metadata": {},
   "outputs": [],
   "source": []
  }
 ],
 "metadata": {
  "kernelspec": {
   "display_name": "Python 3 (ipykernel)",
   "language": "python",
   "name": "python3"
  },
  "language_info": {
   "codemirror_mode": {
    "name": "ipython",
    "version": 3
   },
   "file_extension": ".py",
   "mimetype": "text/x-python",
   "name": "python",
   "nbconvert_exporter": "python",
   "pygments_lexer": "ipython3",
   "version": "3.9.12"
  }
 },
 "nbformat": 4,
 "nbformat_minor": 5
}
