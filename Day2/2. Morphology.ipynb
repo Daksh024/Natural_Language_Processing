{
 "cells": [
  {
   "cell_type": "code",
   "execution_count": 1,
   "id": "cc65dad8",
   "metadata": {},
   "outputs": [],
   "source": [
    "# !pip install polyglot"
   ]
  },
  {
   "cell_type": "code",
   "execution_count": 2,
   "id": "b8ed1cfc",
   "metadata": {},
   "outputs": [],
   "source": [
    "# !pip install morfessor polyglot PyICU pycld2"
   ]
  },
  {
   "cell_type": "code",
   "execution_count": 3,
   "id": "ee6720b0",
   "metadata": {
    "scrolled": true
   },
   "outputs": [
    {
     "name": "stderr",
     "output_type": "stream",
     "text": [
      "bash: /home/dai/anaconda3/lib/libtinfo.so.6: no version information available (required by bash)\n"
     ]
    },
    {
     "name": "stdout",
     "output_type": "stream",
     "text": [
      "[polyglot_data] Downloading package morph2.en to\n",
      "[polyglot_data]     /home/dai/polyglot_data...\n",
      "[polyglot_data]   Package morph2.en is already up-to-date!\n",
      "[polyglot_data] Downloading package morph2.mr to\n",
      "[polyglot_data]     /home/dai/polyglot_data...\n",
      "[polyglot_data]   Package morph2.mr is already up-to-date!\n"
     ]
    }
   ],
   "source": [
    "%%bash\n",
    "polyglot download morph2.en morph2.mr"
   ]
  },
  {
   "cell_type": "code",
   "execution_count": 4,
   "id": "8b857981",
   "metadata": {},
   "outputs": [
    {
     "name": "stdout",
     "output_type": "stream",
     "text": [
      "  1. Kapampangan                2. Italian                    3. Upper Sorbian            \n",
      "  4. Sakha                      5. Hindi                      6. French                   \n",
      "  7. Spanish; Castilian         8. Vietnamese                 9. Arabic                   \n",
      " 10. Macedonian                11. Pashto, Pushto            12. Bosnian-Croatian-Serbian \n",
      " 13. Egyptian Arabic           14. Norwegian Nynorsk         15. Sundanese                \n",
      " 16. Sicilian                  17. Azerbaijani               18. Bulgarian                \n",
      " 19. Yoruba                    20. Tajik                     21. Georgian                 \n",
      " 22. Tatar                     23. Galician                  24. Malagasy                 \n",
      " 25. Uighur, Uyghur            26. Amharic                   27. Venetian                 \n",
      " 28. Yiddish                   29. Norwegian                 30. Alemannic                \n",
      " 31. Estonian                  32. West Flemish              33. Divehi; Dhivehi; Mald... \n",
      " 34. Japanese                  35. Ilokano                   36. Haitian; Haitian Creole  \n",
      " 37. Belarusian                38. Greek, Modern             39. Ossetian, Ossetic        \n",
      " 40. Welsh                     41. Malayalam                 42. Albanian                 \n",
      " 43. Marathi (Marāṭhī)         44. Armenian                  45. Slovene                  \n",
      " 46. Korean                    47. Breton                    48. Irish                    \n",
      " 49. Luxembourgish, Letzeb...  50. Bengali                   51. Serbian                  \n",
      " 52. Fiji Hindi                53. Javanese                  54. Finnish                  \n",
      " 55. Gan Chinese               56. Kirghiz, Kyrgyz           57. Catalan; Valencian       \n",
      " 58. Quechua                   59. Croatian                  60. Dutch                    \n",
      " 61. Swedish                   62. Ido                       63. Tagalog                  \n",
      " 64. Sanskrit (Saṁskṛta)       65. Piedmontese language      66. Asturian                 \n",
      " 67. Danish                    68. Cebuano                   69. Western Frisian          \n",
      " 70. Kannada                   71. Scots                     72. Maltese                  \n",
      " 73. Swahili                   74. Limburgish, Limburgan...  75. Waray-Waray              \n",
      " 76. Lombard language          77. Uzbek                     78. Kurdish                  \n",
      " 79. Latvian                   80. Burmese                   81. Aragonese                \n",
      " 82. Volapük                   83. Northern Sami             84. Faroese                  \n",
      " 85. Kazakh                    86. Telugu                    87. Ukrainian                \n",
      " 88. Assamese                  89. Chuvash                   90. Silesian                 \n",
      " 91. Turkmen                   92. Romanian, Moldavian, ...  93. Persian                  \n",
      " 94. Tibetan Standard, Tib...  95. Latin                     96. Slovak                   \n",
      " 97. Sinhala, Sinhalese        98. Bavarian                  99. Icelandic                \n",
      "100. Mongolian                101. Walloon                  102. Portuguese               \n",
      "103. Urdu                     104. Gujarati                 105. Manx                     \n",
      "106. Tamil                    107. Khmer                    108. English                  \n",
      "109. Malay                    110. Chechen                  111. Bishnupriya Manipuri     \n",
      "112. Afrikaans                113. Basque                   114. Polish                   \n",
      "115. German                   116. Esperanto                117. Indonesian               \n",
      "118. Occitan                  119. Chinese                  120. Czech                    \n",
      "121. Hebrew (modern)          122. Romansh                  123. Lithuanian               \n",
      "124. Turkish                  125. Nepali                   126. Bosnian                  \n",
      "127. Interlingua              128. Zazaki                   129. Oriya                    \n",
      "130. Hungarian                131. Scottish Gaelic; Gaelic  132. Bashkir                  \n",
      "133. Thai                     134. Panjabi, Punjabi         135. Russian                  \n",
      "\n"
     ]
    }
   ],
   "source": [
    "from polyglot.downloader import downloader\n",
    "print(downloader.supported_languages_table(\"morph2\"))"
   ]
  },
  {
   "cell_type": "code",
   "execution_count": 5,
   "id": "1b57301b",
   "metadata": {},
   "outputs": [],
   "source": [
    "from polyglot.text import Text, Word"
   ]
  },
  {
   "cell_type": "code",
   "execution_count": 15,
   "id": "03883300",
   "metadata": {},
   "outputs": [
    {
     "name": "stdout",
     "output_type": "stream",
     "text": [
      "cats \t\t ['cat', 's']\n",
      "computing \t\t ['com', 'put', 'ing']\n",
      "association \t\t ['associ', 'ation']\n",
      "programming \t\t ['program', 'ming']\n",
      "leadership \t\t ['leader', 'ship']\n",
      "miscommunication \t\t ['mis', 'communication']\n",
      "girlfriend \t\t ['girl', 'friend']\n",
      "identifiable \t\t ['identif', 'i', 'able']\n",
      "psychologically \t\t ['psycho', 'logical', 'ly']\n",
      "engineering \t\t ['engine', 'er', 'ing']\n",
      "lunar \t\t ['lu', 'nar']\n",
      "revolutinary \t\t ['re', 'vol', 'ut', 'in', 'ary']\n",
      "revival \t\t ['rev', 'ival']\n"
     ]
    }
   ],
   "source": [
    "words = ['cats','computing','association','programming','leadership','miscommunication',\n",
    "         'girlfriend','identifiable','psychologically',\n",
    "         'engineering','lunar','revolutinary','revival']\n",
    "\n",
    "for  w in words:\n",
    "    w = Word(w,language='en')\n",
    "    print(w,'\\t\\t',w.morphemes)"
   ]
  },
  {
   "cell_type": "code",
   "execution_count": 21,
   "id": "a104bc0f",
   "metadata": {},
   "outputs": [
    {
     "name": "stdout",
     "output_type": "stream",
     "text": [
      "प्रामाणिक \t\t ['प्रा', 'माणिक']\n",
      "जलविद्युत \t\t ['जल', 'विद्युत']\n",
      "रामसेतू \t\t ['राम', 'से', 'तू']\n",
      "महाभारत \t\t ['महाभारत']\n",
      "रामायण \t\t ['रामायण']\n",
      "जलप्राधिकरण \t\t ['जल', 'प्राधिकरण']\n",
      "मानसिकसंतुलन \t\t ['मानस', 'िक', 'संतु', 'लन']\n",
      "मानसशास्त्रीय \t\t ['मानस', 'शास्त्र', 'ीय']\n",
      "राज्यशास्त्र \t\t ['राज्य', 'शास्त्र']\n",
      "महामार्ग \t\t ['महामार्ग']\n",
      "धोत्रीतील \t\t ['धो', 'त्री', 'तील']\n",
      "प्रस्फुट \t\t ['प्र', 'स्', 'फुट']\n",
      "पंपू \t\t ['पं', 'पू']\n",
      "ऋषिकेश \t\t ['ऋषि', 'केश']\n",
      "कुंभकर्ण \t\t ['कुंभ', 'कर्ण']\n",
      "धनश्री \t\t ['धन', 'श्री']\n",
      "सुरज \t\t ['सुर', 'ज']\n",
      "कांबळे \t\t ['कां', 'बळे']\n",
      "ककाशी \t\t ['क', 'काशी']\n",
      "सेनपायी \t\t ['सेन', 'पाय', 'ी']\n"
     ]
    }
   ],
   "source": [
    "words = ['प्रामाणिक','जलविद्युत','रामसेतू','महाभारत','रामायण','जलप्राधिकरण','मानसिकसंतुलन',\n",
    "         'मानसशास्त्रीय','राज्यशास्त्र','महामार्ग','धोत्रीतील','प्रस्फुट','पंपू',\n",
    "        'ऋषिकेश','कुंभकर्ण','धनश्री','सुरज','कांबळे','ककाशी','सेनपायी']\n",
    "for  w in words:\n",
    "    w = Word(w,language='mr')\n",
    "    print(w,'\\t\\t',w.morphemes)"
   ]
  },
  {
   "cell_type": "markdown",
   "id": "0a3c4001",
   "metadata": {},
   "source": [
    "# Text "
   ]
  },
  {
   "cell_type": "code",
   "execution_count": 22,
   "id": "3a6943cc",
   "metadata": {},
   "outputs": [
    {
     "data": {
      "text/plain": [
       "WordList(['we', 'will', 'meet', 'to', 'day', '.'])"
      ]
     },
     "execution_count": 22,
     "metadata": {},
     "output_type": "execute_result"
    }
   ],
   "source": [
    "blob = 'wewillmeettoday.'\n",
    "text = Text(blob)\n",
    "text.language = 'en'\n",
    "text.morphemes"
   ]
  },
  {
   "cell_type": "code",
   "execution_count": 23,
   "id": "019cf7bb",
   "metadata": {},
   "outputs": [
    {
     "data": {
      "text/plain": [
       "WordList(['iam', 'go', 'ing', 'to', 'kill', 'y', 'ou', '.'])"
      ]
     },
     "execution_count": 23,
     "metadata": {},
     "output_type": "execute_result"
    }
   ],
   "source": [
    "blob = 'iamgoingtokillyou.'\n",
    "text = Text(blob)\n",
    "text.language = 'en'\n",
    "text.morphemes"
   ]
  },
  {
   "cell_type": "code",
   "execution_count": 24,
   "id": "0d16b8cb",
   "metadata": {},
   "outputs": [
    {
     "data": {
      "text/plain": [
       "WordList(['मी', 'तु', 'ला', 'उद्', 'या', 'भेट', 'ायला', 'येतो'])"
      ]
     },
     "execution_count": 24,
     "metadata": {},
     "output_type": "execute_result"
    }
   ],
   "source": [
    "blob = 'मीतुलाउद्याभेटायलायेतो'\n",
    "text = Text(blob)\n",
    "text.language = 'mr'\n",
    "text.morphemes"
   ]
  },
  {
   "cell_type": "code",
   "execution_count": null,
   "id": "ae4f7d6a",
   "metadata": {},
   "outputs": [],
   "source": []
  }
 ],
 "metadata": {
  "kernelspec": {
   "display_name": "Python 3 (ipykernel)",
   "language": "python",
   "name": "python3"
  },
  "language_info": {
   "codemirror_mode": {
    "name": "ipython",
    "version": 3
   },
   "file_extension": ".py",
   "mimetype": "text/x-python",
   "name": "python",
   "nbconvert_exporter": "python",
   "pygments_lexer": "ipython3",
   "version": "3.9.12"
  }
 },
 "nbformat": 4,
 "nbformat_minor": 5
}
