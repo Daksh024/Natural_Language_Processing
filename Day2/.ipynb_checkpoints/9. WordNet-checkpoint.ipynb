{
 "cells": [
  {
   "cell_type": "code",
   "execution_count": 1,
   "id": "3e66e78c",
   "metadata": {},
   "outputs": [],
   "source": [
    "from nltk.corpus import wordnet"
   ]
  },
  {
   "cell_type": "markdown",
   "id": "f6032b77",
   "metadata": {},
   "source": [
    "## Retrieve the synonyms"
   ]
  },
  {
   "cell_type": "code",
   "execution_count": 3,
   "id": "9502d3d3",
   "metadata": {},
   "outputs": [
    {
     "data": {
      "text/plain": [
       "[Synset('make.v.03'),\n",
       " Synset('create.v.02'),\n",
       " Synset('create.v.03'),\n",
       " Synset('create.v.04'),\n",
       " Synset('create.v.05'),\n",
       " Synset('produce.v.02')]"
      ]
     },
     "execution_count": 3,
     "metadata": {},
     "output_type": "execute_result"
    }
   ],
   "source": [
    "x = wordnet.synsets('create')\n",
    "x"
   ]
  },
  {
   "cell_type": "code",
   "execution_count": 18,
   "id": "21ef761f",
   "metadata": {},
   "outputs": [],
   "source": [
    "synonym = set()\n",
    "\n",
    "for word in wordnet.synsets('create'):\n",
    "    synonym.add(word.lemmas()[0].name())"
   ]
  },
  {
   "cell_type": "code",
   "execution_count": 19,
   "id": "c5aff790",
   "metadata": {},
   "outputs": [
    {
     "data": {
      "text/plain": [
       "{'create', 'make', 'produce'}"
      ]
     },
     "execution_count": 19,
     "metadata": {},
     "output_type": "execute_result"
    }
   ],
   "source": [
    "synonym"
   ]
  },
  {
   "cell_type": "markdown",
   "id": "b3cf79da",
   "metadata": {},
   "source": [
    "### Defination and Examples"
   ]
  },
  {
   "cell_type": "code",
   "execution_count": 43,
   "id": "ef518245",
   "metadata": {},
   "outputs": [
    {
     "name": "stdout",
     "output_type": "stream",
     "text": [
      "Word and Type: [Synset('company.n.01'), Synset('company.n.02'), Synset('company.n.03'), Synset('company.n.04'), Synset('caller.n.01'), Synset('company.n.06'), Synset('party.n.03'), Synset('ship's_company.n.01'), Synset('company.n.09'), Synset('company.v.01')]\n"
     ]
    }
   ],
   "source": [
    "synset = wordnet.synsets(\"company\")\n",
    "print(\"Word and Type: \"+ str(synset))\n",
    "# print(\"Synonym: \"+ synset[0].lemmas()[0].name())\n",
    "# print(\"Meaning of the word: \" + synset[0].definition())\n",
    "# print(\"The Examples: \"+str(synset[0].examples()))"
   ]
  },
  {
   "cell_type": "code",
   "execution_count": 22,
   "id": "b5a7d15e",
   "metadata": {
    "collapsed": true
   },
   "outputs": [
    {
     "name": "stdout",
     "output_type": "stream",
     "text": [
      "\n",
      "\n",
      "Word and Type: company.n.01\n",
      "Synonym: company\n",
      "Meaning of the word: an institution created to conduct business\n",
      "The Examples: ['he only invests in large well-established companies', 'he started the company in his garage']\n",
      "\n",
      "\n",
      "Word and Type: company.n.02\n",
      "Synonym: company\n",
      "Meaning of the word: small military unit; usually two or three platoons\n",
      "The Examples: []\n",
      "\n",
      "\n",
      "Word and Type: company.n.03\n",
      "Synonym: company\n",
      "Meaning of the word: the state of being with someone\n",
      "The Examples: ['he missed their company', 'he enjoyed the society of his friends']\n",
      "\n",
      "\n",
      "Word and Type: company.n.04\n",
      "Synonym: company\n",
      "Meaning of the word: organization of performers and associated personnel (especially theatrical)\n",
      "The Examples: ['the traveling company all stayed at the same hotel']\n",
      "\n",
      "\n",
      "Word and Type: caller.n.01\n",
      "Synonym: caller\n",
      "Meaning of the word: a social or business visitor\n",
      "The Examples: [\"the room was a mess because he hadn't expected company\"]\n",
      "\n",
      "\n",
      "Word and Type: company.n.06\n",
      "Synonym: company\n",
      "Meaning of the word: a social gathering of guests or companions\n",
      "The Examples: ['the house was filled with company when I arrived']\n",
      "\n",
      "\n",
      "Word and Type: party.n.03\n",
      "Synonym: party\n",
      "Meaning of the word: a band of people associated temporarily in some activity\n",
      "The Examples: ['they organized a party to search for food', 'the company of cooks walked into the kitchen']\n",
      "\n",
      "\n",
      "Word and Type: ship's_company.n.01\n",
      "Synonym: ship's_company\n",
      "Meaning of the word: crew of a ship including the officers; the whole force or personnel of a ship\n",
      "The Examples: []\n",
      "\n",
      "\n",
      "Word and Type: company.n.09\n",
      "Synonym: company\n",
      "Meaning of the word: a unit of firefighters including their equipment\n",
      "The Examples: ['a hook-and-ladder company']\n",
      "\n",
      "\n",
      "Word and Type: company.v.01\n",
      "Synonym: company\n",
      "Meaning of the word: be a companion to somebody\n",
      "The Examples: []\n"
     ]
    }
   ],
   "source": [
    "def print_var(synset,var):\n",
    "    print(\"Word and Type: \"+ synset[var].name())\n",
    "    print(\"Synonym: \"+ synset[var].lemmas()[0].name())\n",
    "    print(\"Meaning of the word: \" + synset[var].definition())\n",
    "    print(\"The Examples: \"+str(synset[var].examples()))\n",
    "\n",
    "for i in range(len(synset)):\n",
    "    print(\"\\n\")\n",
    "    print_var(synset,i)"
   ]
  },
  {
   "cell_type": "code",
   "execution_count": 27,
   "id": "317035ee",
   "metadata": {
    "collapsed": true
   },
   "outputs": [
    {
     "name": "stdout",
     "output_type": "stream",
     "text": [
      "\n",
      "\n",
      "Word and Type: post.n.01\n",
      "Synonym: post\n",
      "Meaning of the word: the position where someone (as a guard or sentry) stands or is assigned to stand\n",
      "The Examples: ['a soldier manned the entrance post', 'a sentry station']\n",
      "\n",
      "\n",
      "Word and Type: military_post.n.01\n",
      "Synonym: military_post\n",
      "Meaning of the word: military installation at which a body of troops is stationed\n",
      "The Examples: ['this military post provides an important source of income for the town nearby', \"there is an officer's club on the post\"]\n",
      "\n",
      "\n",
      "Word and Type: position.n.06\n",
      "Synonym: position\n",
      "Meaning of the word: a job in an organization\n",
      "The Examples: ['he occupied a post in the treasury']\n",
      "\n",
      "\n",
      "Word and Type: post.n.04\n",
      "Synonym: post\n",
      "Meaning of the word: an upright consisting of a piece of timber or metal fixed firmly in an upright position\n",
      "The Examples: ['he set a row of posts in the ground and strung barbwire between them']\n",
      "\n",
      "\n",
      "Word and Type: post.n.05\n",
      "Synonym: Post\n",
      "Meaning of the word: United States aviator who in 1933 made the first solo flight around the world (1899-1935)\n",
      "The Examples: []\n",
      "\n",
      "\n",
      "Word and Type: post.n.06\n",
      "Synonym: Post\n",
      "Meaning of the word: United States female author who wrote a book and a syndicated newspaper column on etiquette (1872-1960)\n",
      "The Examples: []\n",
      "\n",
      "\n",
      "Word and Type: post.n.07\n",
      "Synonym: Post\n",
      "Meaning of the word: United States manufacturer of breakfast cereals and Postum (1854-1914)\n",
      "The Examples: []\n",
      "\n",
      "\n",
      "Word and Type: mail.n.04\n",
      "Synonym: mail\n",
      "Meaning of the word: any particular collection of letters or packages that is delivered\n",
      "The Examples: ['your mail is on the table', 'is there any post for me?', 'she was opening her post']\n",
      "\n",
      "\n",
      "Word and Type: post.n.09\n",
      "Synonym: post\n",
      "Meaning of the word: a pole or stake set up to mark something (as the start or end of a race track)\n",
      "The Examples: ['a pair of posts marked the goal', 'the corner of the lot was indicated by a stake']\n",
      "\n",
      "\n",
      "Word and Type: mail.n.02\n",
      "Synonym: mail\n",
      "Meaning of the word: the system whereby messages are transmitted via the post office\n",
      "The Examples: ['the mail handles billions of items every day', 'he works for the United States mail service', \"in England they call mail `the post'\"]\n",
      "\n",
      "\n",
      "Word and Type: post.n.11\n",
      "Synonym: post\n",
      "Meaning of the word: the delivery and collection of letters and packages\n",
      "The Examples: ['it came by the first post', \"if you hurry you'll catch the post\"]\n",
      "\n",
      "\n",
      "Word and Type: post.v.01\n",
      "Synonym: post\n",
      "Meaning of the word: affix in a public place or for public notice\n",
      "The Examples: ['post a warning']\n",
      "\n",
      "\n",
      "Word and Type: post.v.02\n",
      "Synonym: post\n",
      "Meaning of the word: publicize with, or as if with, a poster\n",
      "The Examples: [\"I'll post the news on the bulletin board\"]\n",
      "\n",
      "\n",
      "Word and Type: post.v.03\n",
      "Synonym: post\n",
      "Meaning of the word: assign to a post; put into a post\n",
      "The Examples: ['The newspaper posted him in Timbuktu']\n",
      "\n",
      "\n",
      "Word and Type: station.v.01\n",
      "Synonym: station\n",
      "Meaning of the word: assign to a station\n",
      "The Examples: []\n",
      "\n",
      "\n",
      "Word and Type: post.v.05\n",
      "Synonym: post\n",
      "Meaning of the word: display, as of records in sports games\n",
      "The Examples: []\n",
      "\n",
      "\n",
      "Word and Type: post.v.06\n",
      "Synonym: post\n",
      "Meaning of the word: enter on a public list\n",
      "The Examples: []\n",
      "\n",
      "\n",
      "Word and Type: post.v.07\n",
      "Synonym: post\n",
      "Meaning of the word: transfer (entries) from one account book to another\n",
      "The Examples: []\n",
      "\n",
      "\n",
      "Word and Type: post.v.08\n",
      "Synonym: post\n",
      "Meaning of the word: ride Western style and bob up and down in the saddle in rhythm with a horse's trotting gait\n",
      "The Examples: []\n",
      "\n",
      "\n",
      "Word and Type: stake.v.03\n",
      "Synonym: stake\n",
      "Meaning of the word: mark with a stake\n",
      "The Examples: ['stake out the path']\n",
      "\n",
      "\n",
      "Word and Type: post.v.10\n",
      "Synonym: post\n",
      "Meaning of the word: place so as to be noticed\n",
      "The Examples: ['post a sign', 'post a warning at the dump']\n",
      "\n",
      "\n",
      "Word and Type: mail.v.02\n",
      "Synonym: mail\n",
      "Meaning of the word: cause to be directed or transmitted to another place\n",
      "The Examples: ['send me your latest results', \"I'll mail you the paper when it's written\"]\n",
      "\n",
      "\n",
      "Word and Type: post.v.12\n",
      "Synonym: post\n",
      "Meaning of the word: mark or expose as infamous\n",
      "The Examples: ['She was branded a loose woman']\n"
     ]
    }
   ],
   "source": [
    "# new word \n",
    "synset = wordnet.synsets(\"post\")\n",
    "\n",
    "for i in range(len(synset)):\n",
    "    print(\"\\n\")\n",
    "    print_var(synset,i)"
   ]
  },
  {
   "cell_type": "code",
   "execution_count": 28,
   "id": "f2d0b999",
   "metadata": {
    "collapsed": true
   },
   "outputs": [
    {
     "name": "stdout",
     "output_type": "stream",
     "text": [
      "\n",
      "\n",
      "Word and Type: sound.n.01\n",
      "Synonym: sound\n",
      "Meaning of the word: the particular auditory effect produced by a given cause\n",
      "The Examples: ['the sound of rain on the roof', 'the beautiful sound of music']\n",
      "\n",
      "\n",
      "Word and Type: sound.n.02\n",
      "Synonym: sound\n",
      "Meaning of the word: the subjective sensation of hearing something\n",
      "The Examples: ['he strained to hear the faint sounds']\n",
      "\n",
      "\n",
      "Word and Type: sound.n.03\n",
      "Synonym: sound\n",
      "Meaning of the word: mechanical vibrations transmitted by an elastic medium\n",
      "The Examples: ['falling trees make a sound in the forest even when no one is there to hear them']\n",
      "\n",
      "\n",
      "Word and Type: sound.n.04\n",
      "Synonym: sound\n",
      "Meaning of the word: the sudden occurrence of an audible event\n",
      "The Examples: ['the sound awakened them']\n",
      "\n",
      "\n",
      "Word and Type: audio.n.01\n",
      "Synonym: audio\n",
      "Meaning of the word: the audible part of a transmitted signal\n",
      "The Examples: ['they always raise the audio for commercials']\n",
      "\n",
      "\n",
      "Word and Type: phone.n.02\n",
      "Synonym: phone\n",
      "Meaning of the word: (phonetics) an individual sound unit of speech without concern as to whether or not it is a phoneme of some language\n",
      "The Examples: []\n",
      "\n",
      "\n",
      "Word and Type: strait.n.01\n",
      "Synonym: strait\n",
      "Meaning of the word: a narrow channel of the sea joining two larger bodies of water\n",
      "The Examples: []\n",
      "\n",
      "\n",
      "Word and Type: sound.n.08\n",
      "Synonym: sound\n",
      "Meaning of the word: a large ocean inlet or deep bay\n",
      "The Examples: ['the main body of the sound ran parallel to the coast']\n",
      "\n",
      "\n",
      "Word and Type: sound.v.01\n",
      "Synonym: sound\n",
      "Meaning of the word: appear in a certain way\n",
      "The Examples: ['This sounds interesting']\n",
      "\n",
      "\n",
      "Word and Type: sound.v.02\n",
      "Synonym: sound\n",
      "Meaning of the word: make a certain noise or sound\n",
      "The Examples: [\"She went `Mmmmm'\", \"The gun went `bang'\"]\n",
      "\n",
      "\n",
      "Word and Type: sound.v.03\n",
      "Synonym: sound\n",
      "Meaning of the word: give off a certain sound or sounds\n",
      "The Examples: ['This record sounds scratchy']\n",
      "\n",
      "\n",
      "Word and Type: sound.v.04\n",
      "Synonym: sound\n",
      "Meaning of the word: announce by means of a sound\n",
      "The Examples: ['sound the alarm']\n",
      "\n",
      "\n",
      "Word and Type: voice.v.02\n",
      "Synonym: voice\n",
      "Meaning of the word: utter with vibrating vocal chords\n",
      "The Examples: []\n",
      "\n",
      "\n",
      "Word and Type: sound.v.06\n",
      "Synonym: sound\n",
      "Meaning of the word: cause to sound\n",
      "The Examples: ['sound the bell', 'sound a certain note']\n",
      "\n",
      "\n",
      "Word and Type: fathom.v.02\n",
      "Synonym: fathom\n",
      "Meaning of the word: measure the depth of (a body of water) with a sounding line\n",
      "The Examples: []\n",
      "\n",
      "\n",
      "Word and Type: sound.a.01\n",
      "Synonym: sound\n",
      "Meaning of the word: financially secure and safe\n",
      "The Examples: ['sound investments', 'a sound economy']\n",
      "\n",
      "\n",
      "Word and Type: healthy.s.04\n",
      "Synonym: healthy\n",
      "Meaning of the word: exercising or showing good judgment\n",
      "The Examples: ['healthy scepticism', 'a healthy fear of rattlesnakes', 'the healthy attitude of French laws', 'healthy relations between labor and management', 'an intelligent solution', 'a sound approach to the problem', 'sound advice', 'no sound explanation for his decision']\n",
      "\n",
      "\n",
      "Word and Type: sound.a.03\n",
      "Synonym: sound\n",
      "Meaning of the word: in good condition; free from defect or damage or decay\n",
      "The Examples: ['a sound timber', 'the wall is sound', 'a sound foundation']\n",
      "\n",
      "\n",
      "Word and Type: good.s.17\n",
      "Synonym: good\n",
      "Meaning of the word: in excellent physical condition\n",
      "The Examples: ['good teeth', 'I still have one good leg', 'a sound mind in a sound body']\n",
      "\n",
      "\n",
      "Word and Type: reasoned.s.01\n",
      "Synonym: reasoned\n",
      "Meaning of the word: logically valid\n",
      "The Examples: ['a sound argument']\n",
      "\n",
      "\n",
      "Word and Type: legal.s.03\n",
      "Synonym: legal\n",
      "Meaning of the word: having legal efficacy or force\n",
      "The Examples: ['a sound title to the property']\n",
      "\n",
      "\n",
      "Word and Type: sound.s.07\n",
      "Synonym: sound\n",
      "Meaning of the word: free from moral defect\n",
      "The Examples: ['a man of sound character']\n",
      "\n",
      "\n",
      "Word and Type: heavy.s.26\n",
      "Synonym: heavy\n",
      "Meaning of the word: (of sleep) deep and complete\n",
      "The Examples: ['a heavy sleep', 'fell into a profound sleep', 'a sound sleeper', 'deep wakeless sleep']\n",
      "\n",
      "\n",
      "Word and Type: sound.s.09\n",
      "Synonym: sound\n",
      "Meaning of the word: thorough\n",
      "The Examples: ['a sound thrashing']\n"
     ]
    }
   ],
   "source": [
    "# new word \n",
    "synset = wordnet.synsets(\"sound\")\n",
    "\n",
    "for i in range(len(synset)):\n",
    "    print(\"\\n\")\n",
    "    print_var(synset,i)"
   ]
  },
  {
   "cell_type": "code",
   "execution_count": 34,
   "id": "f96df48c",
   "metadata": {
    "collapsed": true
   },
   "outputs": [
    {
     "name": "stdout",
     "output_type": "stream",
     "text": [
      "Enter a word:kite\n",
      "\n",
      "Meaning of the word: a bank check that has been fraudulently altered to increase its face value\n",
      "\n",
      "Meaning of the word: a bank check drawn on insufficient funds at another bank in order to take advantage of the float\n",
      "\n",
      "Meaning of the word: plaything consisting of a light frame covered with tissue paper; flown in wind at end of a string\n",
      "\n",
      "Meaning of the word: any of several small graceful hawks of the family Accipitridae having long pointed wings and feeding on insects and small animals\n",
      "\n",
      "Meaning of the word: increase the amount (of a check) fraudulently\n",
      "\n",
      "Meaning of the word: get credit or money by using a bad check\n",
      "\n",
      "Meaning of the word: soar or fly like a kite\n",
      "\n",
      "Meaning of the word: fly a kite\n"
     ]
    }
   ],
   "source": [
    "# read a word  from user and print all meanings of it\n",
    "\n",
    "ui = str(input(\"Enter a word: \"))\n",
    "\n",
    "synset = wordnet.synsets(ui)\n",
    "for i in range(len(synset)):\n",
    "    print(\"\\nMeaning of the word: \" + synset[i].definition())"
   ]
  },
  {
   "cell_type": "code",
   "execution_count": 45,
   "id": "0434cfa4",
   "metadata": {},
   "outputs": [],
   "source": [
    "s = word.name()"
   ]
  },
  {
   "cell_type": "code",
   "execution_count": 47,
   "id": "86610c71",
   "metadata": {},
   "outputs": [
    {
     "data": {
      "text/plain": [
       "['kite', 'v', '04']"
      ]
     },
     "execution_count": 47,
     "metadata": {},
     "output_type": "execute_result"
    }
   ],
   "source": [
    "s.split(\".\")"
   ]
  },
  {
   "cell_type": "code",
   "execution_count": 53,
   "id": "4308c570",
   "metadata": {
    "scrolled": true
   },
   "outputs": [
    {
     "name": "stdout",
     "output_type": "stream",
     "text": [
      "Enter a word: sound\n",
      "\n",
      "Word and Meaning of the word: sound.n.01 the particular auditory effect produced by a given cause\n",
      "\n",
      "Word and Meaning of the word: sound.n.02 the subjective sensation of hearing something\n",
      "\n",
      "Word and Meaning of the word: sound.n.03 mechanical vibrations transmitted by an elastic medium\n",
      "\n",
      "Word and Meaning of the word: sound.n.04 the sudden occurrence of an audible event\n",
      "\n",
      "Word and Meaning of the word: audio.n.01 the audible part of a transmitted signal\n",
      "\n",
      "Word and Meaning of the word: phone.n.02 (phonetics) an individual sound unit of speech without concern as to whether or not it is a phoneme of some language\n",
      "\n",
      "Word and Meaning of the word: strait.n.01 a narrow channel of the sea joining two larger bodies of water\n",
      "\n",
      "Word and Meaning of the word: sound.n.08 a large ocean inlet or deep bay\n"
     ]
    }
   ],
   "source": [
    "# read a word from user and print all noun meaning of it\n",
    "\n",
    "ui = str(input(\"Enter a word: \"))\n",
    "cnt = 0\n",
    "for word in wordnet.synsets(ui):\n",
    "    if word.name().split(\".\")[1] == 'n':\n",
    "        print(\"\\nWord and Meaning of the word: \" + word.name(),word.definition())\n",
    "        cnt += 1"
   ]
  },
  {
   "cell_type": "markdown",
   "id": "869d5835",
   "metadata": {},
   "source": [
    "### Extract specific pos from word"
   ]
  },
  {
   "cell_type": "code",
   "execution_count": 54,
   "id": "151d1e72",
   "metadata": {},
   "outputs": [],
   "source": [
    "verbs = set()\n",
    "nouns = set()\n",
    "adj = set()\n",
    "\n",
    "#function to create synset with multiple types\n",
    "def syn(typ):\n",
    "    word = str(input(\"Enter a word: \"))\n",
    "    synset = wordnet.synsets(word,typ)\n",
    "    return synset\n",
    "\n",
    "\n",
    "synset = wordnet.synsets(\"sound\",pos='n')\n",
    "for i in range(len(synset)):\n",
    "    nouns.add(synset[i].lemmas()[0].name())\n",
    "    \n",
    "synset = wordnet.synsets(\"sound\",pos='v')\n",
    "for i in range(len(synset)):\n",
    "    verbs.add(synset[i].lemmas()[0].name())\n",
    "    \n",
    "synset = wordnet.synsets(\"sound\",pos='a')\n",
    "for i in range(len(synset)):\n",
    "    adj.add(synset[i].lemmas()[0].name())\n",
    "    \n"
   ]
  },
  {
   "cell_type": "code",
   "execution_count": 55,
   "id": "d1a04cd8",
   "metadata": {},
   "outputs": [
    {
     "data": {
      "text/plain": [
       "({'audio', 'phone', 'sound', 'strait'},\n",
       " {'fathom', 'sound', 'voice'},\n",
       " {'good', 'healthy', 'heavy', 'legal', 'reasoned', 'sound'})"
      ]
     },
     "execution_count": 55,
     "metadata": {},
     "output_type": "execute_result"
    }
   ],
   "source": [
    "nouns,verbs,adj"
   ]
  },
  {
   "cell_type": "markdown",
   "id": "47b98fb2",
   "metadata": {},
   "source": [
    "# Extract the antonyms/ opposite words"
   ]
  },
  {
   "cell_type": "code",
   "execution_count": 60,
   "id": "f3ddfbcf",
   "metadata": {},
   "outputs": [
    {
     "name": "stdout",
     "output_type": "stream",
     "text": [
      "Antonyms:  {'malfunction', 'idle'}\n"
     ]
    }
   ],
   "source": [
    "ant = set()\n",
    "\n",
    "for synset in wordnet.synsets(\"run\"):\n",
    "    for lemma in synset.lemmas():\n",
    "        if lemma.antonyms():\n",
    "            ant.add(lemma.antonyms()[0].name())\n",
    "        \n",
    "print(\"Antonyms: \",ant)"
   ]
  },
  {
   "cell_type": "code",
   "execution_count": null,
   "id": "ce0a2004",
   "metadata": {},
   "outputs": [],
   "source": []
  }
 ],
 "metadata": {
  "kernelspec": {
   "display_name": "Python 3 (ipykernel)",
   "language": "python",
   "name": "python3"
  },
  "language_info": {
   "codemirror_mode": {
    "name": "ipython",
    "version": 3
   },
   "file_extension": ".py",
   "mimetype": "text/x-python",
   "name": "python",
   "nbconvert_exporter": "python",
   "pygments_lexer": "ipython3",
   "version": "3.9.12"
  }
 },
 "nbformat": 4,
 "nbformat_minor": 5
}
