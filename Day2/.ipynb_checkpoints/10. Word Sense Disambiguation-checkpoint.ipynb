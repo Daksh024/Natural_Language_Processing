{
 "cells": [
  {
   "cell_type": "code",
   "execution_count": 1,
   "id": "74f9687f",
   "metadata": {},
   "outputs": [],
   "source": [
    "# !pip install gensim"
   ]
  },
  {
   "cell_type": "markdown",
   "id": "58131275",
   "metadata": {},
   "source": [
    "### Lesk Algorithm"
   ]
  },
  {
   "cell_type": "code",
   "execution_count": 2,
   "id": "a28793f9",
   "metadata": {},
   "outputs": [],
   "source": [
    "from nltk.wsd import lesk\n",
    "from nltk.tokenize import word_tokenize"
   ]
  },
  {
   "cell_type": "code",
   "execution_count": 4,
   "id": "6f6b36e8",
   "metadata": {},
   "outputs": [],
   "source": [
    "a1 = lesk(word_tokenize(\"This device is used to jam the signal\"),\"jam\")"
   ]
  },
  {
   "cell_type": "code",
   "execution_count": 26,
   "id": "6b75876b",
   "metadata": {},
   "outputs": [
    {
     "name": "stdout",
     "output_type": "stream",
     "text": [
      "lend flavor to\n",
      "a period of the year marked by special events or activities in some field\n"
     ]
    }
   ],
   "source": [
    "a2 = lesk(word_tokenize(\"Apply spices to the chicken to season it\"),\"season\")\n",
    "\n",
    "a3 = lesk(word_tokenize(\"India recieves a lot of rain in the rainy season\"),\"season\")\n",
    "\n",
    "print(a2.definition())\n",
    "\n",
    "print(a3.definition())"
   ]
  },
  {
   "cell_type": "code",
   "execution_count": 23,
   "id": "62edc1e5",
   "metadata": {},
   "outputs": [
    {
     "data": {
      "text/plain": [
       "'a person who lacks confidence, is irresolute and wishy-washy'"
      ]
     },
     "execution_count": 23,
     "metadata": {},
     "output_type": "execute_result"
    }
   ],
   "source": [
    "a2.definition()"
   ]
  },
  {
   "cell_type": "code",
   "execution_count": 10,
   "id": "1b4a33cd",
   "metadata": {},
   "outputs": [
    {
     "data": {
      "text/plain": [
       "'deliberate radiation or reflection of electromagnetic energy for the purpose of disrupting enemy use of electronic devices or systems'"
      ]
     },
     "execution_count": 10,
     "metadata": {},
     "output_type": "execute_result"
    }
   ],
   "source": [
    "a1.definition()"
   ]
  },
  {
   "cell_type": "code",
   "execution_count": 29,
   "id": "9a3d3462",
   "metadata": {},
   "outputs": [
    {
     "name": "stdout",
     "output_type": "stream",
     "text": [
      "a kind of person\n",
      "prefer or wish to do something\n"
     ]
    },
    {
     "data": {
      "text/plain": [
       "'prefer or wish to do something'"
      ]
     },
     "execution_count": 29,
     "metadata": {},
     "output_type": "execute_result"
    }
   ],
   "source": [
    "b1 = lesk(word_tokenize(\"The shape of moon is like a ball\"),\"like\")\n",
    "b2 = lesk(word_tokenize(\"He likes to eat mangos\"),\"like\")\n",
    "b3 = lesk(word_tokenize(\"He likes tall and beautiful women like jennifer lawrence\"),\"like\")\n",
    "\n",
    "print(b1.definition())jennifer friends\n",
    "print(b2.definition())\n",
    "b3.definition()"
   ]
  },
  {
   "cell_type": "code",
   "execution_count": null,
   "id": "72645882",
   "metadata": {},
   "outputs": [],
   "source": []
  }
 ],
 "metadata": {
  "kernelspec": {
   "display_name": "Python 3 (ipykernel)",
   "language": "python",
   "name": "python3"
  },
  "language_info": {
   "codemirror_mode": {
    "name": "ipython",
    "version": 3
   },
   "file_extension": ".py",
   "mimetype": "text/x-python",
   "name": "python",
   "nbconvert_exporter": "python",
   "pygments_lexer": "ipython3",
   "version": "3.9.12"
  }
 },
 "nbformat": 4,
 "nbformat_minor": 5
}
